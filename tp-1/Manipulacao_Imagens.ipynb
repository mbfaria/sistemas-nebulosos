{
 "cells": [
  {
   "cell_type": "code",
   "execution_count": null,
   "metadata": {},
   "outputs": [],
   "source": [
    "import numpy as np\n",
    "import pandas as pd\n",
    "from matplotlib import pyplot as plt\n",
    "from collections import defaultdict\n",
    "from scipy.io import loadmat  # this is the SciPy module that loads mat-files\n",
    "from functools import partial\n",
    "import random\n",
    "#import cv2\n",
    "from PIL import Image\n",
    "import matplotlib.image as mpimg\n",
    "from scipy.spatial.distance import cdist"
   ]
  },
  {
   "cell_type": "markdown",
   "metadata": {},
   "source": [
    "#### Carregar as fotos\n",
    "Carrega a foto, reescalona (resize) e retorna o seu formato em RGB."
   ]
  },
  {
   "cell_type": "code",
   "execution_count": null,
   "metadata": {},
   "outputs": [],
   "source": [
    "def photo_open(filename, rescale=1):\n",
    "    photo = Image.open(filename)\n",
    "    photo = photo.convert('RGB')\n",
    "    photo =photo.resize( ( int(photo.size[0]/rescale), int(photo.size[1]/rescale) ), Image.ANTIALIAS)\n",
    "    return photo"
   ]
  },
  {
   "cell_type": "markdown",
   "metadata": {},
   "source": [
    "#### Carregar os pixels RGB da imagem\n",
    "\n",
    "retorna um DataFrame com as coordenadas RGB da imagem."
   ]
  },
  {
   "cell_type": "code",
   "execution_count": null,
   "metadata": {},
   "outputs": [],
   "source": [
    "def pick_pixels(photo):\n",
    "    n , m = photo.size\n",
    "    ibagem = []\n",
    "    pixels = photo.load()\n",
    "    for i in range(n):\n",
    "        for j in range(m):\n",
    "            ibagem.append(list(pixels[i,j]) )\n",
    "    return pd.DataFrame(ibagem)"
   ]
  },
  {
   "cell_type": "markdown",
   "metadata": {},
   "source": [
    "#### Colorir a imagem\n",
    "Colore a imagem com as respectivas cores dos centroides. "
   ]
  },
  {
   "cell_type": "code",
   "execution_count": null,
   "metadata": {},
   "outputs": [],
   "source": [
    "def coloring(photo, labels, centers, rescale=1):\n",
    "    n, m = photo.size\n",
    "    pixels = photo.load()\n",
    "    for i in range(n):\n",
    "        for j in range(m):\n",
    "            numb = [int(number) for number in centers[labels[i*m + j]] ] \n",
    "            pixels[i,j]= tuple(numb)\n",
    "    photo = photo.resize( (int( photo.size[0]*rescale), int(photo.size[1]*rescale)), Image.ANTIALIAS)\n",
    "    return photo"
   ]
  },
  {
   "cell_type": "markdown",
   "metadata": {},
   "source": [
    "### Exemplo de Fluxo de Execução\n",
    "Isto deve ser feito para cada imagem"
   ]
  },
  {
   "cell_type": "code",
   "execution_count": null,
   "metadata": {},
   "outputs": [],
   "source": [
    "# código exemplo\n",
    "photo = photo_open(filename)\n",
    "pixels = pick_pixels(photo)\n",
    "# labels, centers = KMeans(k = 4)     ....  chama o KMeans ou Fuzzy-CMeans \n",
    "photo = coloring(photo, labels, centers)"
   ]
  }
 ],
 "metadata": {
  "kernelspec": {
   "display_name": "Python 3",
   "language": "python",
   "name": "python3"
  },
  "language_info": {
   "codemirror_mode": {
    "name": "ipython",
    "version": 3
   },
   "file_extension": ".py",
   "mimetype": "text/x-python",
   "name": "python",
   "nbconvert_exporter": "python",
   "pygments_lexer": "ipython3",
   "version": "3.7.6"
  }
 },
 "nbformat": 4,
 "nbformat_minor": 4
}
